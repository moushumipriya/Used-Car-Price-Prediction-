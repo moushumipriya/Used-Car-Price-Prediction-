{
  "nbformat": 4,
  "nbformat_minor": 0,
  "metadata": {
    "colab": {
      "provenance": [],
      "mount_file_id": "1sMvr-4XjX8T6RruVr4HlxrfneiV8GyGi",
      "authorship_tag": "ABX9TyNuQdgfo90XJD+3mfwDZBrb",
      "include_colab_link": true
    },
    "kernelspec": {
      "name": "python3",
      "display_name": "Python 3"
    },
    "language_info": {
      "name": "python"
    }
  },
  "cells": [
    {
      "cell_type": "markdown",
      "metadata": {
        "id": "view-in-github",
        "colab_type": "text"
      },
      "source": [
        "<a href=\"https://colab.research.google.com/github/moushumipriya/Used-Car-Price-Prediction-/blob/main/Car_Price_Prediction_Project.ipynb\" target=\"_parent\"><img src=\"https://colab.research.google.com/assets/colab-badge.svg\" alt=\"Open In Colab\"/></a>"
      ]
    },
    {
      "cell_type": "code",
      "source": [
        "from google.colab import drive\n",
        "drive.mount('/content/drive')\n",
        "\n",
        "import pandas as pd\n",
        "import numpy as np\n",
        "import matplotlib.pyplot as plt\n",
        "import seaborn as sns\n",
        "\n",
        "from sklearn.model_selection import train_test_split\n",
        "from sklearn.preprocessing import LabelEncoder\n",
        "from sklearn.linear_model import LinearRegression\n",
        "from sklearn.metrics import mean_squared_error, r2_score\n",
        "from sklearn.ensemble import RandomForestRegressor # Import RandomForestRegressor"
      ],
      "metadata": {
        "colab": {
          "base_uri": "https://localhost:8080/"
        },
        "id": "T8vsSnCzNJFW",
        "outputId": "76fa4a9a-010e-4197-c807-55b08bc922a6"
      },
      "execution_count": 11,
      "outputs": [
        {
          "output_type": "stream",
          "name": "stdout",
          "text": [
            "Drive already mounted at /content/drive; to attempt to forcibly remount, call drive.mount(\"/content/drive\", force_remount=True).\n"
          ]
        }
      ]
    },
    {
      "cell_type": "code",
      "source": [
        "\n",
        "file_path = \"/content/drive/MyDrive/car_listings.csv\"\n",
        "df = pd.read_csv(file_path)\n",
        "\n",
        "print(\"Original Columns:\", df.columns.tolist())\n",
        "print(\"Original Shape:\", df.shape)\n"
      ],
      "metadata": {
        "colab": {
          "base_uri": "https://localhost:8080/"
        },
        "id": "WbWzTDZ5NJIH",
        "outputId": "78a33619-cfe8-4376-acfd-263efb3cce02"
      },
      "execution_count": 2,
      "outputs": [
        {
          "output_type": "stream",
          "name": "stdout",
          "text": [
            "Original Columns: ['ID', 'AutoTraderID', 'AutoTraderDealerID', 'Source', 'SourceID', 'VIN', 'StockNo', 'ManufactureYear', 'ColourBody', 'Odometer', 'Rego', 'RegoExpiry', 'Make', 'Model', 'Variant', 'Series', 'Status', 'SoldDate', 'URL', 'Lat', 'Lon', 'CreatedAt', 'UpdatedAt', 'DeletedAt', 'DealerName', 'MinPrice']\n",
            "Original Shape: (125552, 26)\n"
          ]
        }
      ]
    },
    {
      "cell_type": "code",
      "source": [
        "drop_cols = [\n",
        "    \"ID\", \"AutoTraderID\", \"AutoTraderDealerID\", \"Source\", \"SourceID\",\n",
        "    \"VIN\", \"StockNo\", \"Rego\", \"RegoExpiry\", \"Status\", \"SoldDate\",\n",
        "    \"URL\", \"Lat\", \"Lon\", \"CreatedAt\", \"UpdatedAt\", \"DeletedAt\", \"DealerName\"\n",
        "]\n",
        "\n",
        "df = df.drop(columns=drop_cols)\n",
        "print(\"Remaining Columns:\", df.columns.tolist())\n",
        "print(\"New Shape:\", df.shape)\n"
      ],
      "metadata": {
        "colab": {
          "base_uri": "https://localhost:8080/"
        },
        "id": "jJOtTGAMNJK2",
        "outputId": "0e23afe1-7ff9-465f-a26d-109017076c92"
      },
      "execution_count": 3,
      "outputs": [
        {
          "output_type": "stream",
          "name": "stdout",
          "text": [
            "Remaining Columns: ['ManufactureYear', 'ColourBody', 'Odometer', 'Make', 'Model', 'Variant', 'Series', 'MinPrice']\n",
            "New Shape: (125552, 8)\n"
          ]
        }
      ]
    },
    {
      "cell_type": "code",
      "source": [
        "# Missing value check\n",
        "print(\"Missing values:\\n\", df.isnull().sum())\n",
        "\n",
        "# Odometer, ManufactureYear, MinPrice → numeric fill\n",
        "df[\"Odometer\"] = df[\"Odometer\"].fillna(df[\"Odometer\"].median())\n",
        "df[\"ManufactureYear\"] = df[\"ManufactureYear\"].fillna(df[\"ManufactureYear\"].median())\n",
        "df[\"MinPrice\"] = df[\"MinPrice\"].fillna(df[\"MinPrice\"].median())\n",
        "\n",
        "# Categorical columns fill\n",
        "for col in [\"ColourBody\", \"Make\", \"Model\", \"Variant\", \"Series\"]:\n",
        "    df[col] = df[col].fillna(\"Unknown\")\n"
      ],
      "metadata": {
        "colab": {
          "base_uri": "https://localhost:8080/"
        },
        "id": "KXLLiAFLNJNq",
        "outputId": "abc2c734-87d0-4255-b17f-bc08b05a311b"
      },
      "execution_count": 4,
      "outputs": [
        {
          "output_type": "stream",
          "name": "stdout",
          "text": [
            "Missing values:\n",
            " ManufactureYear        0\n",
            "ColourBody          9908\n",
            "Odometer               0\n",
            "Make                   0\n",
            "Model                  5\n",
            "Variant             6285\n",
            "Series             16458\n",
            "MinPrice               0\n",
            "dtype: int64\n"
          ]
        }
      ]
    },
    {
      "cell_type": "code",
      "source": [
        "le = LabelEncoder()\n",
        "for col in [\"ColourBody\", \"Make\", \"Model\", \"Variant\", \"Series\"]:\n",
        "    df[col] = le.fit_transform(df[col])\n"
      ],
      "metadata": {
        "id": "D2_2yoHkNJQQ"
      },
      "execution_count": 5,
      "outputs": []
    },
    {
      "cell_type": "code",
      "source": [
        "X = df.drop(columns=[\"MinPrice\"])   # Features\n",
        "y = df[\"MinPrice\"]                 # Target\n",
        "\n",
        "X_train, X_test, y_train, y_test = train_test_split(\n",
        "    X, y, test_size=0.2, random_state=42\n",
        ")\n",
        "\n",
        "print(\"Train Shape:\", X_train.shape)\n",
        "print(\"Test Shape:\", X_test.shape)\n"
      ],
      "metadata": {
        "colab": {
          "base_uri": "https://localhost:8080/"
        },
        "id": "EUsd4LPyNJS5",
        "outputId": "63cb5a19-0dc2-4652-c778-6b34a8935dc6"
      },
      "execution_count": 6,
      "outputs": [
        {
          "output_type": "stream",
          "name": "stdout",
          "text": [
            "Train Shape: (100441, 7)\n",
            "Test Shape: (25111, 7)\n"
          ]
        }
      ]
    },
    {
      "cell_type": "code",
      "source": [
        "model = RandomForestRegressor(n_estimators=100, random_state=42)\n",
        "model.fit(X_train, y_train)\n",
        "\n",
        "y_pred = model.predict(X_test)"
      ],
      "metadata": {
        "id": "8W7gchJxNJVQ"
      },
      "execution_count": 20,
      "outputs": []
    },
    {
      "cell_type": "code",
      "source": [
        "mse = mean_squared_error(y_test, y_pred)\n",
        "rmse = np.sqrt(mse)\n",
        "r2 = r2_score(y_test, y_pred)\n",
        "\n",
        "print(\"Model Performance:\")\n",
        "print(\"RMSE:\", rmse)\n",
        "print(\"R² Score:\", r2)\n"
      ],
      "metadata": {
        "colab": {
          "base_uri": "https://localhost:8080/"
        },
        "id": "H18VjysINJXv",
        "outputId": "8ec7d8cb-814f-4222-c89f-4d48c5eb6b53"
      },
      "execution_count": 8,
      "outputs": [
        {
          "output_type": "stream",
          "name": "stdout",
          "text": [
            "Model Performance:\n",
            "RMSE: 27722.794921378107\n",
            "R² Score: 0.14592610459472088\n"
          ]
        }
      ]
    },
    {
      "cell_type": "code",
      "source": [
        "example = X_test.iloc[0:1]\n",
        "predicted_price = model.predict(example)\n",
        "\n",
        "print(\"Example Car Features:\\n\", example)\n",
        "print(\"Predicted Price:\", predicted_price[0])\n",
        "print(\"Actual Price:\", y_test.iloc[0])\n"
      ],
      "metadata": {
        "colab": {
          "base_uri": "https://localhost:8080/"
        },
        "id": "6Uycm0L1NjVn",
        "outputId": "fe31aefc-56f0-4ab9-e4df-b22410ffc5b3"
      },
      "execution_count": 9,
      "outputs": [
        {
          "output_type": "stream",
          "name": "stdout",
          "text": [
            "Example Car Features:\n",
            "        ManufactureYear  ColourBody  Odometer  Make  Model  Variant  Series\n",
            "17749             2023         170     10489    45    721     5331    2566\n",
            "Predicted Price: 44915.37863359577\n",
            "Actual Price: 47950\n"
          ]
        }
      ]
    },
    {
      "cell_type": "code",
      "source": [
        "import joblib\n",
        "from sklearn.preprocessing import LabelEncoder\n",
        "from sklearn.ensemble import RandomForestRegressor # Ensure RandomForestRegressor is imported\n",
        "\n",
        "\n",
        "joblib.dump(model, \"car_price_model.pkl\")\n",
        "\n",
        "\n",
        "encoders = {}\n",
        "# Re-fit LabelEncoders on the original string data before saving\n",
        "original_df = pd.read_csv(file_path)\n",
        "drop_cols = [\n",
        "    \"ID\", \"AutoTraderID\", \"AutoTraderDealerID\", \"Source\", \"SourceID\",\n",
        "    \"VIN\", \"StockNo\", \"Rego\", \"RegoExpiry\", \"Status\", \"SoldDate\",\n",
        "    \"URL\", \"Lat\", \"Lon\", \"CreatedAt\", \"UpdatedAt\", \"DeletedAt\", \"DealerName\"\n",
        "]\n",
        "\n",
        "original_df = original_df.drop(columns=drop_cols)\n",
        "\n",
        "for col in [\"ColourBody\", \"Make\", \"Model\", \"Variant\", \"Series\"]:\n",
        "    le = LabelEncoder()\n",
        "    # Handle missing values before fitting the encoder\n",
        "    original_df[col] = original_df[col].fillna(\"Unknown\")\n",
        "    le.fit(original_df[col])\n",
        "    encoders[col] = le\n",
        "\n",
        "joblib.dump(encoders, \"encoders.pkl\")"
      ],
      "metadata": {
        "colab": {
          "base_uri": "https://localhost:8080/"
        },
        "id": "xtTk8M8ZO0V2",
        "outputId": "5c2bf936-0aa1-42e7-f236-5418c4ab16bc"
      },
      "execution_count": 21,
      "outputs": [
        {
          "output_type": "execute_result",
          "data": {
            "text/plain": [
              "['encoders.pkl']"
            ]
          },
          "metadata": {},
          "execution_count": 21
        }
      ]
    },
    {
      "cell_type": "code",
      "source": [
        "import pandas as pd\n",
        "import joblib\n",
        "\n",
        "# Load model and encoders\n",
        "model = joblib.load(\"car_price_model.pkl\")\n",
        "encoders = joblib.load(\"encoders.pkl\")\n",
        "\n",
        "def predict_car_price(car_features):\n",
        "    \"\"\"\n",
        "    car_features = dict, e.g.,\n",
        "    {\n",
        "        \"ManufactureYear\": 2019,\n",
        "        \"Odometer\": 25000,\n",
        "        \"Make\": \"Toyota\",\n",
        "        \"Model\": \"Corolla\",\n",
        "        \"Variant\": \"XLE\",\n",
        "        \"ColourBody\": \"White\",\n",
        "        \"Series\": \"Series1\"\n",
        "    }\n",
        "    \"\"\"\n",
        "    # Encode categorical columns\n",
        "    for col in [\"ColourBody\", \"Make\", \"Model\", \"Variant\", \"Series\"]:\n",
        "        # Handle unseen labels by mapping them to 'Unknown'\n",
        "        if car_features[col] not in encoders[col].classes_:\n",
        "            car_features[col] = 'Unknown'\n",
        "        car_features[col] = encoders[col].transform([car_features[col]])[0]\n",
        "\n",
        "    # Ensure the order of columns matches the training data\n",
        "    feature_order = ['ManufactureYear', 'ColourBody', 'Odometer', 'Make', 'Model', 'Variant', 'Series']\n",
        "    X = pd.DataFrame([car_features], columns=feature_order)\n",
        "    predicted_price = model.predict(X)[0]\n",
        "\n",
        "    return predicted_price"
      ],
      "metadata": {
        "id": "PB1RIRt1O3ue"
      },
      "execution_count": 23,
      "outputs": []
    },
    {
      "cell_type": "code",
      "source": [
        "car = {\n",
        "    \"ManufactureYear\": 2019,\n",
        "    \"Odometer\": 25000,\n",
        "    \"Make\": \"Toyota\",\n",
        "    \"Model\": \"Corolla\",\n",
        "    \"Variant\": \"XLE\",\n",
        "    \"ColourBody\": \"White\",\n",
        "    \"Series\": \"Series1\"\n",
        "}\n",
        "\n",
        "price = predict_car_price(car)\n",
        "print(f\"Predicted Car Price: ${price:.2f}\")\n"
      ],
      "metadata": {
        "colab": {
          "base_uri": "https://localhost:8080/"
        },
        "id": "4K05ubjRO6AG",
        "outputId": "7a710815-5c1f-43eb-ed32-2060d31bd6b1"
      },
      "execution_count": 24,
      "outputs": [
        {
          "output_type": "stream",
          "name": "stdout",
          "text": [
            "Predicted Car Price: $36778.50\n"
          ]
        }
      ]
    },
    {
      "cell_type": "code",
      "source": [
        "import matplotlib.pyplot as plt\n",
        "from sklearn.metrics import mean_squared_error, mean_absolute_error, r2_score\n",
        "import numpy as np\n",
        "from sklearn.linear_model import LinearRegression # Import LinearRegression\n",
        "from sklearn.ensemble import RandomForestRegressor # Ensure RandomForestRegressor is imported\n",
        "\n",
        "\n",
        "# Train Linear Regression model (if not already trained)\n",
        "# Assuming X_train, X_test, y_train, y_test are already defined\n",
        "linear_model = LinearRegression()\n",
        "linear_model.fit(X_train, y_train)\n",
        "\n",
        "\n",
        "# Assuming rf_model is the trained RandomForestRegressor model from previous steps\n",
        "# If not, you might need to load it or ensure the variable name matches\n",
        "rf_model = model # Assuming 'model' is your trained RandomForestRegressor\n",
        "\n",
        "# Predictions\n",
        "y_pred_lr = linear_model.predict(X_test)\n",
        "y_pred_rf = rf_model.predict(X_test)\n",
        "\n",
        "# Metrics\n",
        "def print_metrics(y_true, y_pred, name):\n",
        "    rmse = np.sqrt(mean_squared_error(y_true, y_pred))\n",
        "    mae = mean_absolute_error(y_true, y_pred)\n",
        "    r2 = r2_score(y_true, y_pred)\n",
        "    print(f\"{name} Performance:\")\n",
        "    print(f\"RMSE: {rmse:.2f}, MAE: {mae:.2f}, R²: {r2:.2f}\\n\")\n",
        "\n",
        "print_metrics(y_test, y_pred_lr, \"Linear Regression\")\n",
        "print_metrics(y_test, y_pred_rf, \"Random Forest Regression\")\n",
        "\n",
        "# Plot predictions vs actual\n",
        "plt.figure(figsize=(10,5))\n",
        "plt.scatter(y_test, y_pred_lr, alpha=0.5, label=\"Linear Regression\")\n",
        "plt.scatter(y_test, y_pred_rf, alpha=0.5, label=\"Random Forest\")\n",
        "plt.plot([y_test.min(), y_test.max()], [y_test.min(), y_test.max()], 'k--', lw=2)\n",
        "plt.xlabel(\"Actual Price\")\n",
        "plt.ylabel(\"Predicted Price\")\n",
        "plt.title(\"Predicted vs Actual Price Comparison\")\n",
        "plt.legend()\n",
        "plt.show()"
      ],
      "metadata": {
        "colab": {
          "base_uri": "https://localhost:8080/",
          "height": 591
        },
        "id": "jisCjuBHQhqG",
        "outputId": "dfb248f0-6d5e-42cc-8b34-bef67d45abb0"
      },
      "execution_count": 26,
      "outputs": [
        {
          "output_type": "stream",
          "name": "stdout",
          "text": [
            "Linear Regression Performance:\n",
            "RMSE: 27722.79, MAE: 15755.02, R²: 0.15\n",
            "\n",
            "Random Forest Regression Performance:\n",
            "RMSE: 62000.57, MAE: 6572.01, R²: -3.27\n",
            "\n"
          ]
        },
        {
          "output_type": "display_data",
          "data": {
            "text/plain": [
              "<Figure size 1000x500 with 1 Axes>"
            ],
            "image/png": "[encoded data removed]"
          },
          "metadata": {}
        }
      ]
    }
  ]
}